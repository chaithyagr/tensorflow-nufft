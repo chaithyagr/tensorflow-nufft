{
 "cells": [
  {
   "cell_type": "markdown",
   "metadata": {},
   "source": [
    "# Example: MRI Application\n",
    "In this example we take an image of the Shepp-Logan phantom and we evaluate the\n",
    "forward NUFFT on a set of points defining a radial *k*-space trajectory. Then,\n",
    "we use the the adjoint NUFFT to recover the image from the radial *k*-space\n",
    "data."
   ]
  },
  {
   "cell_type": "markdown",
   "metadata": {},
   "source": [
    "## Prepare data"
   ]
  },
  {
   "cell_type": "markdown",
   "metadata": {},
   "source": [
    "Let's begin by creating an example image. We will use the Shepp-Logan phantom,\n",
    "provided by [scikit-image](https://pypi.org/project/scikit-image/)."
   ]
  },
  {
   "cell_type": "code",
   "execution_count": 1,
   "metadata": {},
   "outputs": [
    {
     "name": "stdout",
     "output_type": "stream",
     "text": [
      "image: \n",
      " - shape: (256, 256)\n",
      " - dtype: <dtype: 'complex64'>\n"
     ]
    }
   ],
   "source": [
    "import skimage.data\n",
    "import skimage.transform\n",
    "import tensorflow as tf\n",
    "\n",
    "grid_shape = [256, 256]\n",
    "image = tf.convert_to_tensor(skimage.transform.resize(\n",
    "    skimage.data.shepp_logan_phantom(), grid_shape).astype('float32'), dtype=tf.complex64)\n",
    "\n",
    "print(\"image: \\n - shape: {}\\n - dtype: {}\".format(image.shape, image.dtype))"
   ]
  },
  {
   "cell_type": "markdown",
   "metadata": {},
   "source": [
    "Let us also create a *k*-space trajectory. In this example we will create a\n",
    "radial trajectory using the\n",
    "[TensorFlow MRI](https://pypi.org/project/tensorflow-mri/) package."
   ]
  },
  {
   "cell_type": "code",
   "execution_count": 2,
   "metadata": {},
   "outputs": [
    {
     "name": "stdout",
     "output_type": "stream",
     "text": [
      "points: \n",
      " - shape: (119296, 2)\n",
      " - dtype: <dtype: 'float32'>\n",
      " - range: [-3.141521453857422, 3.1415927410125732]\n"
     ]
    }
   ],
   "source": [
    "import tensorflow_mri as tfmr\n",
    "\n",
    "points = tfmr.radial_trajectory(base_resolution=256, views=233)\n",
    "points = tf.reshape(points, [-1, 2])\n",
    "\n",
    "print(\"points: \\n - shape: {}\\n - dtype: {}\\n - range: [{}, {}]\".format(\n",
    "    points.shape, points.dtype, tf.math.reduce_min(points), tf.math.reduce_max(points)))"
   ]
  },
  {
   "cell_type": "markdown",
   "metadata": {},
   "source": [
    "The trajectory should have shape `[..., M, N]`, where `M` is the number of\n",
    "points and `N` is the number of dimensions. Any additional dimensions `...` will\n",
    "be treated as batch dimensions.\n",
    "\n",
    "Batch dimensions for `image` and `traj`, if any, will be broadcasted.\n",
    "\n",
    "Spatial frequencies should be provided in radians/voxel, ie, in the range\n",
    "`[-pi, pi]`."
   ]
  },
  {
   "cell_type": "markdown",
   "metadata": {},
   "source": [
    "Finally, we'll also need density compensation weights for our set of nonuniform\n",
    "points. These are necessary in the adjoint transform, to compensate for the fact\n",
    "that the sampling density in a radial trajectory is not uniform. Here we use\n",
    "`tensorflow-mri` to calculate these weights."
   ]
  },
  {
   "cell_type": "code",
   "execution_count": 3,
   "metadata": {},
   "outputs": [
    {
     "name": "stdout",
     "output_type": "stream",
     "text": [
      "weights: \n",
      " - shape: (119296,)\n",
      " - dtype: <dtype: 'float32'>\n"
     ]
    }
   ],
   "source": [
    "weights = tfmr.radial_density(base_resolution=256, views=233)\n",
    "weights = tf.reshape(weights, [-1])\n",
    "\n",
    "print(\"weights: \\n - shape: {}\\n - dtype: {}\".format(weights.shape, weights.dtype))"
   ]
  },
  {
   "cell_type": "markdown",
   "metadata": {},
   "source": [
    "## Forward transform (image to *k*-space)"
   ]
  },
  {
   "cell_type": "markdown",
   "metadata": {},
   "source": [
    "Next, let's calculate the k-space coefficients for the given image and trajectory points (image to k-space transform)."
   ]
  },
  {
   "cell_type": "code",
   "execution_count": 4,
   "metadata": {},
   "outputs": [
    {
     "name": "stdout",
     "output_type": "stream",
     "text": [
      "kspace: \n",
      " - shape: (119296,)\n",
      " - dtype: <dtype: 'complex64'>\n"
     ]
    }
   ],
   "source": [
    "import tensorflow_nufft as tfft\n",
    "\n",
    "kspace = tfft.nufft(image, points,\n",
    "                    transform_type='type_2',\n",
    "                    j_sign='negative')\n",
    "\n",
    "print(\"kspace: \\n - shape: {}\\n - dtype: {}\".format(kspace.shape, kspace.dtype))"
   ]
  },
  {
   "cell_type": "markdown",
   "metadata": {},
   "source": [
    "We are using a type-2 transform (uniform to nonuniform) and a negative sign for\n",
    "the imaginary unit (signal domain to frequency domain). These are the default\n",
    "values for `transform_type` and `j_sign`, so providing them was not necessary\n",
    "in this case."
   ]
  },
  {
   "cell_type": "markdown",
   "metadata": {},
   "source": [
    "## Adjoint transform (*k*-space to image)"
   ]
  },
  {
   "cell_type": "markdown",
   "metadata": {},
   "source": [
    "We will now perform the adjoint transform to recover the image given the\n",
    "*k*-space data. In this case, we will use a type-1 transform (nonuniform to\n",
    "uniform) and a positive sign for the imaginary unit (frequency domain to signal\n",
    "domain). Also note that, prior to evaluating the NUFFT, we will compensate for\n",
    "the nonuniform sampling density by simply dividing the *k*-space samples by the\n",
    "density weights. Finally, for type-1 transforms we need to specify an additional\n",
    "`grid_shape` argument, which should be the size of the image. If there are any\n",
    "batch dimensions, `grid_shape` should **not** include them."
   ]
  },
  {
   "cell_type": "code",
   "execution_count": 5,
   "metadata": {},
   "outputs": [
    {
     "name": "stdout",
     "output_type": "stream",
     "text": [
      "recon: \n",
      " - shape: (256, 256)\n",
      " - dtype: <dtype: 'complex64'>\n"
     ]
    }
   ],
   "source": [
    "# Apply density compensation.\n",
    "comp_kspace = kspace / tf.cast(weights, tf.complex64)\n",
    "\n",
    "recon = tfft.nufft(comp_kspace, points,\n",
    "                   transform_type='type_1',\n",
    "                   j_sign='positive',\n",
    "                   grid_shape=grid_shape)\n",
    "\n",
    "print(\"recon: \\n - shape: {}\\n - dtype: {}\".format(recon.shape, recon.dtype))"
   ]
  },
  {
   "cell_type": "markdown",
   "metadata": {},
   "source": [
    "Finally, let's visualize the images."
   ]
  },
  {
   "cell_type": "code",
   "execution_count": 6,
   "metadata": {},
   "outputs": [
    {
     "data": {
      "text/plain": [
       "Text(0.5, 1.0, 'Image after forward\\nand adjoint NUFFT')"
      ]
     },
     "execution_count": 6,
     "metadata": {},
     "output_type": "execute_result"
    },
    {
     "data": {
      "image/png": "[encoded data removed]",
      "text/plain": [
       "<Figure size 432x288 with 2 Axes>"
      ]
     },
     "metadata": {
      "needs_background": "light"
     },
     "output_type": "display_data"
    }
   ],
   "source": [
    "import matplotlib.pyplot as plt\n",
    "\n",
    "fig, ax = plt.subplots(1, 2)\n",
    "ax[0].imshow(tf.abs(image), cmap='gray')\n",
    "ax[0].set_title(\"Original image\")\n",
    "ax[1].imshow(tf.abs(recon), cmap='gray')\n",
    "ax[1].set_title(\"Image after forward\\nand adjoint NUFFT\")"
   ]
  }
 ],
 "metadata": {
  "interpreter": {
   "hash": "f2e9680e84a08a465034748c8dabc0d5e08f67c7d54806eb285996e1b68e54dc"
  },
  "kernelspec": {
   "display_name": "Python 3.8.7 64-bit ('3.8.7': pyenv)",
   "name": "python3"
  },
  "language_info": {
   "codemirror_mode": {
    "name": "ipython",
    "version": 3
   },
   "file_extension": ".py",
   "mimetype": "text/x-python",
   "name": "python",
   "nbconvert_exporter": "python",
   "pygments_lexer": "ipython3",
   "version": "3.8.7"
  }
 },
 "nbformat": 4,
 "nbformat_minor": 2
}
